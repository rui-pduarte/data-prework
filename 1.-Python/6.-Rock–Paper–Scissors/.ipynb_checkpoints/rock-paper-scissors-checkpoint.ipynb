{
 "cells": [
  {
   "cell_type": "markdown",
   "metadata": {},
   "source": [
    "<img src=\"https://bit.ly/2VnXWr2\" width=\"100\" align=\"left\">"
   ]
  },
  {
   "cell_type": "markdown",
   "metadata": {},
   "source": [
    "# Rock, Paper & Scissors\n",
    "\n",
    "Let's play the famous game against our computer. You can check the rules [here](https://en.wikipedia.org/wiki/Rock%E2%80%93paper%E2%80%93scissors). \n",
    "\n",
    "## Task\n",
    "Create a program that imitates the playability of the well known game of rock, paper, scissors. Follow the guidelines provided.\n",
    "\n",
    "## Tools\n",
    "1. Loop: **for/while**\n",
    "2. Functions: **input(), print()...**\n",
    "3. Conditional statements: **if, elif, else**\n",
    "4. Definition of functions. Modular programming\n",
    "5. Import modules\n",
    "\n",
    "**To solve this challenge, the use of functions is recommended.**\n",
    "\n",
    "#### 1. Import the choice function of the random module."
   ]
  },
  {
   "cell_type": "code",
   "execution_count": 1,
   "metadata": {},
   "outputs": [],
   "source": [
    "import random"
   ]
  },
  {
   "cell_type": "markdown",
   "metadata": {},
   "source": [
    "#### 2. Create a list that includes the 3 possible gesture options of the game: 'rock', 'paper' or 'scissors'. Store the list in a variable called `gestures`."
   ]
  },
  {
   "cell_type": "code",
   "execution_count": 2,
   "metadata": {},
   "outputs": [],
   "source": [
    "gestures = ['rock','paper','scissors']"
   ]
  },
  {
   "cell_type": "markdown",
   "metadata": {},
   "source": [
    "#### 3. Create a variable called `n_rounds` to store the maximum number of rounds to play in a game. \n",
    "Remember that the number of rounds must be odd: 1, 3, 5, ..."
   ]
  },
  {
   "cell_type": "code",
   "execution_count": 3,
   "metadata": {},
   "outputs": [],
   "source": [
    "n_rounds = 7"
   ]
  },
  {
   "cell_type": "markdown",
   "metadata": {},
   "source": [
    "#### 4. Create a variable called `rounds_to_win` to store the number of rounds that a player must win to win the game.\n",
    "**Hint**: the value stored in `rounds_to_win` depends on the value of `n_rounds`. "
   ]
  },
  {
   "cell_type": "code",
   "execution_count": 4,
   "metadata": {},
   "outputs": [],
   "source": [
    "import math\n",
    "\n",
    "rounds_to_win = math.ceil(n_rounds/2)"
   ]
  },
  {
   "cell_type": "markdown",
   "metadata": {},
   "source": [
    "#### 5. Create two variables to store the number of rounds that the computer and the player have won. Call these variables `cpu_score` and `player_score`."
   ]
  },
  {
   "cell_type": "code",
   "execution_count": 5,
   "metadata": {},
   "outputs": [],
   "source": [
    "cpu_score = 0\n",
    "player_score = 0"
   ]
  },
  {
   "cell_type": "markdown",
   "metadata": {},
   "source": [
    "#### 6. Define a function that randomly returns one of the 3 gesture options.\n",
    "You will use this function to simulate the gesture choice of the computer. "
   ]
  },
  {
   "cell_type": "code",
   "execution_count": 6,
   "metadata": {},
   "outputs": [
    {
     "name": "stdout",
     "output_type": "stream",
     "text": [
      "scissors\n"
     ]
    }
   ],
   "source": [
    "def pc_rps(): return random.choices(gestures)[0]\n",
    "print(pc_rps())"
   ]
  },
  {
   "cell_type": "markdown",
   "metadata": {},
   "source": [
    "#### 7. Define a function that asks the player which is the gesture he or she wants to show: 'rock', 'paper' or 'scissors'.\n",
    "The player should only be allowed to choose one of the 3 gesture options. If the player's choice is not rock, paper or scissors, keep asking until it is."
   ]
  },
  {
   "cell_type": "code",
   "execution_count": 7,
   "metadata": {},
   "outputs": [
    {
     "name": "stdout",
     "output_type": "stream",
     "text": [
      "Write either: rock, paper, scissorspaper\n",
      "paper\n"
     ]
    }
   ],
   "source": [
    "def player_rps():\n",
    "    OK = False\n",
    "    while OK == False:\n",
    "        player = input(\"Write either: rock, paper, scissors\")\n",
    "        if player == 'rock' or player == 'paper' or player == 'scissors':\n",
    "            OK = True\n",
    "            return player\n",
    "\n",
    "print(player_rps())"
   ]
  },
  {
   "cell_type": "markdown",
   "metadata": {},
   "source": [
    "#### 8. Define a function that checks who won a round. \n",
    "The function should return 0 if there is a tie, 1 if the computer wins and 2 if the player wins."
   ]
  },
  {
   "cell_type": "code",
   "execution_count": null,
   "metadata": {},
   "outputs": [],
   "source": [
    "def winner(pc,player):\n",
    "    \n",
    "    if pc == player: return 0\n",
    "\n",
    "    if pc == 'rock' and player == 'scissors': return 1\n",
    "    if pc == 'scissors' and player == 'rock': return 2\n",
    "    \n",
    "    if pc == 'rock' and player == 'paper': return 2\n",
    "    if pc == 'paper' and player == 'rock': return 1\n",
    "    \n",
    "    if pc == 'scissors' and player == 'paper': return 1\n",
    "    if pc == 'paper' and player == 'scissors': return 2\n",
    "    \n",
    "print(winner(pc_rps(),player_rps()))"
   ]
  },
  {
   "cell_type": "markdown",
   "metadata": {},
   "source": [
    "#### 9. Define a function that prints the choice of the computer, the choice of the player and a message that announces who won the current round. \n",
    "You should also use this function to update the variables that count the number of rounds that the computer and the player have won. The score of the winner increases by one point. If there is a tie, the score does not increase."
   ]
  },
  {
   "cell_type": "code",
   "execution_count": null,
   "metadata": {},
   "outputs": [],
   "source": [
    "#I think I get the goal of the exercise overall, but not really what exactly was asked in this step...\n",
    "#I'll comment it out because Ill work on 10.\n",
    "\n",
    "\"\"\"def playfunc():\n",
    "    numplayer_wins = 0\n",
    "    numpc_wins = 0\n",
    "    msg = ''\n",
    "    \n",
    "    \n",
    "    pc_choice = pc_rps()\n",
    "    player_choice = player_rps()\n",
    "    if winner(pc_choice,player_choice) == 1:\n",
    "        msg = 'PC won!'\n",
    "        numplayer_wins += 1\n",
    "    elif winner(pc_choice,player_choice) == 2:\n",
    "        msg = 'Player won!'\n",
    "        numpc_wins += 1\n",
    "    else: msg = 'Tie !'\n",
    "        \n",
    "    print('PC: ' + pc_choice + ' | Player: ' + player_choice + ' | ' + msg)\n",
    "        \n",
    "    return winner\n",
    "\n",
    "\n",
    "playfunc()\n",
    "\n",
    "\"\"\""
   ]
  },
  {
   "cell_type": "markdown",
   "metadata": {},
   "source": [
    "#### 10. Now it's time to code the execution of the game using the functions and variables you defined above. \n",
    "\n",
    "First, create a loop structure that repeats while no player reaches the minimum score necessary to win and the number of rounds is less than the maximum number of rounds to play in a game.  \n",
    "\n",
    "Inside the loop, use the functions and variables above to create the execution of a round: ask for the player's choice, generate the random choice of the computer, show the round results, update the scores, etc. "
   ]
  },
  {
   "cell_type": "code",
   "execution_count": null,
   "metadata": {},
   "outputs": [],
   "source": [
    "import math\n",
    "n_rounds = 7\n",
    "rounds_to_win = math.ceil(n_rounds/2)\n",
    "\n",
    "current_round = 0\n",
    "player_victory_count = 0 \n",
    "pc_victory_count = 0\n",
    "\n",
    "#Quick function to print results and such to the console\n",
    "def announcer(current_r,pc_victory_c,player_victory_c,whowon):\n",
    "        print('----------------------------')\n",
    "        print('Round number: ' + str(current_r))\n",
    "        if whowon == 0: print('There was a tie !')\n",
    "        if whowon == 1: print('PC won !')\n",
    "        if whowon == 2: print('Player won !')\n",
    "        print('PC has ' + str(pc_victory_c) + ' wins!')\n",
    "        print('Player has ' + str(player_victory_c) + ' wins!')\n",
    "        print('----------------------------')\n",
    "\n",
    "#Game running loop\n",
    "while current_round <= n_rounds and player_victory_count < rounds_to_win and pc_victory_count < rounds_to_win:\n",
    "    \n",
    "    pc_choice = pc_rps()\n",
    "    player_choice = player_rps()\n",
    "    whowon = winner(pc_choice,player_choice)\n",
    "    \n",
    "    if whowon == 1:\n",
    "        pc_victory_count += 1\n",
    "        current_round += 1\n",
    "        announcer(current_round,pc_victory_count,player_victory_count,whowon)\n",
    "\n",
    "    elif whowon == 2:\n",
    "        player_victory_count += 1\n",
    "        current_round += 1\n",
    "        announcer(current_round,pc_victory_count,player_victory_count,whowon)\n",
    "        \n",
    "    else: \n",
    "        current_round += 1\n",
    "        announcer(current_round,pc_victory_count,player_victory_count,whowon)\n",
    "    "
   ]
  },
  {
   "cell_type": "markdown",
   "metadata": {},
   "source": [
    "#### 11. Print the winner of the game based on who won more rounds.\n",
    "Remember that the game might be tied. "
   ]
  },
  {
   "cell_type": "code",
   "execution_count": null,
   "metadata": {},
   "outputs": [],
   "source": [
    "if player_victory_count == rounds_to_win: \n",
    "    print(\"Player won the overall!\")\n",
    "elif pc_victory_count == rounds_to_win:\n",
    "    print(\"PC won the overall!\")\n",
    "elif current_round == n_rounds:\n",
    "    print(\"That's a tie!\")"
   ]
  },
  {
   "cell_type": "markdown",
   "metadata": {},
   "source": [
    "# Bonus: Rock, Paper, Scissors, Lizard & Spock\n",
    "![](images/rpsls.jpg)\n",
    "\n",
    "In this challenge, you need to improve the previous game by adding two new options. To know more about the rules of the improved version of rock, paper, scissors, check this [link](http://www.samkass.com/theories/RPSSL.html). \n",
    "\n",
    "In addition, you will also need to improve how the game interacts with the player: the number of rounds to play, which must be an odd number, will be requested to the user until a valid number is entered. Define a new function to make that request.\n",
    "\n",
    "**Hint**: Try to reuse the code that you already coded in the previous challenge. If your code is efficient, this bonus will only consist of simple modifications to the original game."
   ]
  },
  {
   "cell_type": "code",
   "execution_count": 7,
   "metadata": {},
   "outputs": [
    {
     "name": "stdout",
     "output_type": "stream",
     "text": [
      "How many rounds? - Enter an odd number.5\n",
      "Write either: rock, paper, scissors,lizard,spockspock\n",
      "----------------------------\n",
      "Round number: 1\n",
      "PC won !\n",
      "PC has 1 wins!\n",
      "Player has 0 wins!\n",
      "----------------------------\n",
      "Write either: rock, paper, scissors,lizard,spockrock\n",
      "----------------------------\n",
      "Round number: 2\n",
      "PC won !\n",
      "PC has 2 wins!\n",
      "Player has 0 wins!\n",
      "----------------------------\n",
      "Write either: rock, paper, scissors,lizard,spockrock\n",
      "----------------------------\n",
      "Round number: 3\n",
      "Player won !\n",
      "PC has 2 wins!\n",
      "Player has 1 wins!\n",
      "----------------------------\n",
      "Write either: rock, paper, scissors,lizard,spockspock\n",
      "----------------------------\n",
      "Round number: 4\n",
      "Player won !\n",
      "PC has 2 wins!\n",
      "Player has 2 wins!\n",
      "----------------------------\n",
      "Write either: rock, paper, scissors,lizard,spockpaper\n",
      "----------------------------\n",
      "Round number: 5\n",
      "Player won !\n",
      "PC has 2 wins!\n",
      "Player has 3 wins!\n",
      "----------------------------\n",
      "Player won the overall!\n"
     ]
    }
   ],
   "source": [
    "import random\n",
    "import math\n",
    "\n",
    "gestures = ['rock','paper','scissors','lizard','spock']\n",
    "\n",
    "def get_nrounds():\n",
    "    OK = False\n",
    "    while OK == False:\n",
    "        nrounds = input(\"How many rounds? - Enter an odd number.\")\n",
    "        mod = float(nrounds) % 2\n",
    "        if mod == 1.0:\n",
    "            OK = True\n",
    "    return float(nrounds)\n",
    "\n",
    "n_rounds = get_nrounds()\n",
    "rounds_to_win = math.ceil(n_rounds/2)\n",
    "\n",
    "def pc_rps(): return random.choices(gestures)[0]\n",
    "\n",
    "def player_rps():\n",
    "    OK = False\n",
    "    while OK == False:\n",
    "        player = input(\"Write either: rock, paper, scissors,lizard,spock\")\n",
    "        if player == 'rock' or player == 'paper' or player == 'scissors' or player == 'lizard' or player == 'spock':\n",
    "            OK = True\n",
    "            return player\n",
    "\n",
    "def winner(pc,player):\n",
    "    #Tie\n",
    "    if pc == player: return 0\n",
    "    #Normal game results (which make sense in the extend lizard spock version)\n",
    "    if pc == 'rock' and player == 'scissors': return 1\n",
    "    if pc == 'scissors' and player == 'rock': return 2\n",
    "    \n",
    "    if pc == 'rock' and player == 'paper': return 2\n",
    "    if pc == 'paper' and player == 'rock': return 1\n",
    "    \n",
    "    if pc == 'scissors' and player == 'paper': return 1\n",
    "    if pc == 'paper' and player == 'scissors': return 2\n",
    "    #New game results\n",
    "    if pc == 'rock' and player == 'lizard': return 1\n",
    "    if pc == 'lizard' and player == 'rock': return 2\n",
    "    \n",
    "    if pc == 'lizard' and player == 'spock': return 1\n",
    "    if pc == 'spock' and player == 'lizard': return 2\n",
    "    \n",
    "    if pc == 'spock' and player == 'rock': return 1\n",
    "    if pc == 'rock' and player == 'spock': return 2\n",
    "    \n",
    "    if pc == 'spock' and player == 'scissors': return 1\n",
    "    if pc == 'scissors' and player == 'spock': return 2\n",
    "    \n",
    "    if pc == 'paper' and player == 'spock': return 1\n",
    "    if pc == 'spock' and player == 'paper': return 2\n",
    "    \n",
    "    if pc == 'lizard' and player == 'paper': return 1\n",
    "    if pc == 'paper' and player == 'lizard': return 2\n",
    "    \n",
    "    if pc == 'scissors' and player == 'lizard': return 1\n",
    "    if pc == 'lizard' and player == 'scissors': return 2\n",
    "    \n",
    "current_round = 0\n",
    "player_victory_count = 0 \n",
    "pc_victory_count = 0\n",
    "\n",
    "#Quick function to print results and such to the console\n",
    "def announcer(current_r,pc_victory_c,player_victory_c,whowon):\n",
    "        print('----------------------------')\n",
    "        print('Round number: ' + str(current_r))\n",
    "        if whowon == 0: print('There was a tie !')\n",
    "        if whowon == 1: print('PC won !')\n",
    "        if whowon == 2: print('Player won !')\n",
    "        print('PC has ' + str(pc_victory_c) + ' wins!')\n",
    "        print('Player has ' + str(player_victory_c) + ' wins!')\n",
    "        print('----------------------------')\n",
    "\n",
    "#Game running loop\n",
    "while current_round <= n_rounds and player_victory_count < rounds_to_win and pc_victory_count < rounds_to_win:\n",
    "    \n",
    "    pc_choice = pc_rps()\n",
    "    player_choice = player_rps()\n",
    "    whowon = winner(pc_choice,player_choice)\n",
    "    \n",
    "    if whowon == 1:\n",
    "        pc_victory_count += 1\n",
    "        current_round += 1\n",
    "        announcer(current_round,pc_victory_count,player_victory_count,whowon)\n",
    "\n",
    "    elif whowon == 2:\n",
    "        player_victory_count += 1\n",
    "        current_round += 1\n",
    "        announcer(current_round,pc_victory_count,player_victory_count,whowon)\n",
    "        \n",
    "    else: \n",
    "        current_round += 1\n",
    "        announcer(current_round,pc_victory_count,player_victory_count,whowon)\n",
    "\n",
    "if player_victory_count == rounds_to_win: \n",
    "    print(\"Player won the overall!\")\n",
    "elif pc_victory_count == rounds_to_win:\n",
    "    print(\"PC won the overall!\")\n",
    "elif current_round == n_rounds:\n",
    "    print(\"That's a tie!\")"
   ]
  },
  {
   "cell_type": "markdown",
   "metadata": {},
   "source": []
  }
 ],
 "metadata": {
  "kernelspec": {
   "display_name": "Python 3",
   "language": "python",
   "name": "python3"
  },
  "language_info": {
   "codemirror_mode": {
    "name": "ipython",
    "version": 3
   },
   "file_extension": ".py",
   "mimetype": "text/x-python",
   "name": "python",
   "nbconvert_exporter": "python",
   "pygments_lexer": "ipython3",
   "version": "3.8.2"
  }
 },
 "nbformat": 4,
 "nbformat_minor": 2
}
